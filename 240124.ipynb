{
  "nbformat": 4,
  "nbformat_minor": 0,
  "metadata": {
    "colab": {
      "provenance": [],
      "authorship_tag": "ABX9TyPyFcKMpXw2LLQMlVuZ9VGE",
      "include_colab_link": true
    },
    "kernelspec": {
      "name": "python3",
      "display_name": "Python 3"
    },
    "language_info": {
      "name": "python"
    }
  },
  "cells": [
    {
      "cell_type": "markdown",
      "metadata": {
        "id": "view-in-github",
        "colab_type": "text"
      },
      "source": [
        "<a href=\"https://colab.research.google.com/github/nataliyabulkina/Origin_16.07.22/blob/main/240124.ipynb\" target=\"_parent\"><img src=\"https://colab.research.google.com/assets/colab-badge.svg\" alt=\"Open In Colab\"/></a>"
      ]
    },
    {
      "cell_type": "code",
      "execution_count": 1,
      "metadata": {
        "id": "s0Q354U9oerk"
      },
      "outputs": [],
      "source": [
        "import numpy as np\n",
        "from scipy.stats import ttest_ind\n",
        "from scipy.stats import mannwhitneyu"
      ]
    },
    {
      "cell_type": "code",
      "source": [
        "group_A = 360\n",
        "std_dev_A = 40\n",
        "n_A = 9802\n",
        "\n",
        "group_B = 352\n",
        "std_dev_B = 58\n",
        "n_B = 9789\n",
        "\n",
        "# t-тест\n",
        "t_statistic, p_value = ttest_ind(np.random.normal(group_A, std_dev_A, n_A), np.random.normal(group_B, std_dev_B, n_B))\n",
        "\n",
        "alpha = 0.2\n",
        "print(f\"P-значение: {p_value}\")\n",
        "print(f\"Уровень значимости: {alpha}\")\n",
        "\n",
        "if p_value < alpha:\n",
        "    print(\"Различия статистически значимы. Рекомендуется выкатить версию A.\")\n",
        "else:\n",
        "    print(\"Различия не статистически значимы. Рекомендуется выкатить версию B.\")\n",
        "\n",
        "\n",
        "print('__________')\n",
        "\n",
        "data_A = np.random.normal(group_A, std_dev_A, n_A)\n",
        "data_B = np.random.normal(group_B, std_dev_B, n_B)\n",
        "\n",
        "# U-тест\n",
        "statistic, p_value = mannwhitneyu(data_A, data_B)\n",
        "\n",
        "print(f\"P-значение: {p_value}\")\n",
        "print(f\"Уровень значимости: {alpha}\")\n",
        "\n",
        "if p_value < alpha:\n",
        "    print(\"Различия статистически значимы. Рекомендуется выкатить версию A.\")\n",
        "else:\n",
        "    print(\"Различия не статистически значимы. Рекомендуется выкатить версию B.\")"
      ],
      "metadata": {
        "colab": {
          "base_uri": "https://localhost:8080/"
        },
        "id": "I8730A85omap",
        "outputId": "fefa1c7e-64a5-4979-f231-01b5f1f8304e"
      },
      "execution_count": 2,
      "outputs": [
        {
          "output_type": "stream",
          "name": "stdout",
          "text": [
            "P-значение: 5.079927074604991e-29\n",
            "Уровень значимости: 0.2\n",
            "Различия статистически значимы. Рекомендуется выкатить версию A.\n",
            "__________\n",
            "P-значение: 2.1910250015985892e-30\n",
            "Уровень значимости: 0.2\n",
            "Различия статистически значимы. Рекомендуется выкатить версию A.\n"
          ]
        }
      ]
    }
  ]
}